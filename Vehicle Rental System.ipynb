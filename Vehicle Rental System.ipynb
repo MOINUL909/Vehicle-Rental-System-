{
 "cells": [
  {
   "cell_type": "code",
   "execution_count": 1,
   "id": "63fd1be5-53cc-46e2-a15e-e8d1bcf12038",
   "metadata": {},
   "outputs": [
    {
     "name": "stdout",
     "output_type": "stream",
     "text": [
      "Requirement already satisfied: termcolor in f:\\anaconda\\file\\install_file\\lib\\site-packages (2.5.0)Note: you may need to restart the kernel to use updated packages.\n",
      "\n"
     ]
    }
   ],
   "source": [
    "pip install termcolor"
   ]
  },
  {
   "cell_type": "code",
   "execution_count": 2,
   "id": "0009751f-cd74-4fd3-a024-4d9a3adbf0eb",
   "metadata": {},
   "outputs": [
    {
     "name": "stdout",
     "output_type": "stream",
     "text": [
      "Requirement already satisfied: emoji in f:\\anaconda\\file\\install_file\\lib\\site-packages (2.14.0)\n",
      "Note: you may need to restart the kernel to use updated packages.\n"
     ]
    }
   ],
   "source": [
    "pip install emoji"
   ]
  },
  {
   "cell_type": "code",
   "execution_count": 3,
   "id": "16865648-e78c-4cc8-a73f-37049d5425d9",
   "metadata": {},
   "outputs": [
    {
     "name": "stdout",
     "output_type": "stream",
     "text": [
      "Requirement already satisfied: Pillow in f:\\anaconda\\file\\install_file\\lib\\site-packages (10.3.0)\n",
      "Note: you may need to restart the kernel to use updated packages.\n"
     ]
    }
   ],
   "source": [
    "pip install Pillow"
   ]
  },
  {
   "cell_type": "code",
   "execution_count": 13,
   "id": "13e27c79-e636-49e4-b0fa-6822aa5b9cc7",
   "metadata": {},
   "outputs": [
    {
     "name": "stdout",
     "output_type": "stream",
     "text": [
      "\u001b[36mPlease log in to access the system\u001b[0m\n"
     ]
    },
    {
     "name": "stdin",
     "output_type": "stream",
     "text": [
      "Enter UserId:  Moinul\n",
      "Enter Password:  Moinul909\n"
     ]
    },
    {
     "name": "stdout",
     "output_type": "stream",
     "text": [
      "\u001b[32mLogin successful! Welcome to the Vehicle Rental System.\u001b[0m\n",
      "\u001b[32mVehicle Toyota Corolla added with Code: V-9653.\u001b[0m\n",
      "\u001b[32mVehicle Yamaha R15 added with Code: V-9856.\u001b[0m\n",
      "\u001b[32mVehicle Ford F150 added with Code: V-2424.\u001b[0m\n",
      "\u001b[34m\n",
      "--- Vehicle Rental and Drive Sharing System ---\u001b[0m\n",
      "1. View Available Vehicles\n",
      "2. Rent a Vehicle\n",
      "3. Return a Vehicle\n",
      "4. Enroll a New Vehicle (Drive Sharing)\n",
      "5. Exit\n"
     ]
    },
    {
     "name": "stdin",
     "output_type": "stream",
     "text": [
      "\n",
      "Enter your choice:  1\n"
     ]
    },
    {
     "name": "stdout",
     "output_type": "stream",
     "text": [
      "\u001b[36m\n",
      "Available Vehicles for Rent:\u001b[0m\n",
      "\u001b[33mCar: Toyota Corolla | Seats: 5 | Code: V-9653 | Toyota Corolla | Price per day: $40 | Available\u001b[0m\n",
      "\u001b[33mBike: Yamaha R15 | Type: Sport | Code: V-9856 | Yamaha R15 | Price per day: $20 | Available\u001b[0m\n",
      "\u001b[33mTruck: Ford F150 | Load Capacity: 2 tons | Code: V-2424 | Ford F150 | Price per day: $100 | Available\u001b[0m\n",
      "\u001b[34m\n",
      "--- Vehicle Rental and Drive Sharing System ---\u001b[0m\n",
      "1. View Available Vehicles\n",
      "2. Rent a Vehicle\n",
      "3. Return a Vehicle\n",
      "4. Enroll a New Vehicle (Drive Sharing)\n",
      "5. Exit\n"
     ]
    },
    {
     "name": "stdin",
     "output_type": "stream",
     "text": [
      "\n",
      "Enter your choice:  2\n"
     ]
    },
    {
     "name": "stdout",
     "output_type": "stream",
     "text": [
      "\u001b[36m\n",
      "Available Vehicles for Rent:\u001b[0m\n",
      "\u001b[33mCar: Toyota Corolla | Seats: 5 | Code: V-9653 | Toyota Corolla | Price per day: $40 | Available\u001b[0m\n",
      "\u001b[33mBike: Yamaha R15 | Type: Sport | Code: V-9856 | Yamaha R15 | Price per day: $20 | Available\u001b[0m\n",
      "\u001b[33mTruck: Ford F150 | Load Capacity: 2 tons | Code: V-2424 | Ford F150 | Price per day: $100 | Available\u001b[0m\n"
     ]
    },
    {
     "name": "stdin",
     "output_type": "stream",
     "text": [
      "\n",
      "Enter the Code of the vehicle you want to rent:  V-9653\n",
      "Enter rental duration (in days):  47\n"
     ]
    },
    {
     "name": "stdout",
     "output_type": "stream",
     "text": [
      "\u001b[31mError loading image: HTTP Error 500: Internal Server Error\u001b[0m\n",
      "\u001b[32m\n",
      "Corolla rented for 47 days. Total cost: $1880 :moneybag: 💳\u001b[0m\n",
      "\u001b[34m\n",
      "--- Vehicle Rental and Drive Sharing System ---\u001b[0m\n",
      "1. View Available Vehicles\n",
      "2. Rent a Vehicle\n",
      "3. Return a Vehicle\n",
      "4. Enroll a New Vehicle (Drive Sharing)\n",
      "5. Exit\n"
     ]
    },
    {
     "name": "stdin",
     "output_type": "stream",
     "text": [
      "\n",
      "Enter your choice:  5\n"
     ]
    },
    {
     "name": "stdout",
     "output_type": "stream",
     "text": [
      "\u001b[32mThank you for using the Vehicle Rental and Drive Sharing System! Goodbye!\u001b[0m\n"
     ]
    }
   ],
   "source": [
    "import time\n",
    "import random\n",
    "from termcolor import colored\n",
    "import emoji\n",
    "from IPython.display import display, Image as IPImage\n",
    "import urllib.request\n",
    "\n",
    "# UserId=Moinul\n",
    "# Password=Moinul909\n",
    "# Login Credentials\n",
    "USER_ID = \"Moinul\"\n",
    "PASSWORD = \"Moinul909\"\n",
    "\n",
    "# Function for user authentication\n",
    "def authenticate():\n",
    "    print(colored(\"Please log in to access the system\", 'cyan'))\n",
    "    entered_user = input(\"Enter UserId: \")\n",
    "    entered_password = input(\"Enter Password: \")\n",
    "\n",
    "    if entered_user == USER_ID and entered_password == PASSWORD:\n",
    "        print(colored(\"Login successful! Welcome to the Vehicle Rental System.\", 'green'))\n",
    "        return True\n",
    "    else:\n",
    "        print(colored(\"Invalid UserId or Password. Access denied.\", 'red'))\n",
    "        return False\n",
    "\n",
    "# Database to store vehicles\n",
    "vehicle_db = {}\n",
    "\n",
    "# Base Class: Vehicle\n",
    "class Vehicle:\n",
    "    def __init__(self, make, model, rental_price, image_url, code=None):\n",
    "        self.make = make\n",
    "        self.model = model\n",
    "        self.rental_price = rental_price\n",
    "        self.is_available = True  # Track availability\n",
    "        self.image_url = image_url  # Store image URL for the vehicle\n",
    "        self.code = code if code else self.generate_code()  # Assign unique code\n",
    "\n",
    "    @staticmethod\n",
    "    def generate_code():\n",
    "        \"\"\"Generate a unique code for each vehicle\"\"\"\n",
    "        return f\"V-{random.randint(1000, 9999)}\"\n",
    "\n",
    "    def display_image(self):\n",
    "        \"\"\"Display the image of the vehicle from online URL\"\"\"\n",
    "        try:\n",
    "            with urllib.request.urlopen(self.image_url) as url:\n",
    "                display(IPImage(url.read()))\n",
    "        except Exception as e:\n",
    "            print(colored(f\"Error loading image: {e}\", 'red'))\n",
    "\n",
    "    def rent(self, duration):\n",
    "        \"\"\"Calculates the total rental cost\"\"\"\n",
    "        if self.is_available:\n",
    "            total_cost = duration * self.rental_price\n",
    "            self.is_available = False\n",
    "            vehicle_db[self.code].is_available = False  # Update in database\n",
    "            return total_cost\n",
    "        else:\n",
    "            return None\n",
    "\n",
    "    def return_vehicle(self):\n",
    "        \"\"\"Mark vehicle as available again and update database\"\"\"\n",
    "        self.is_available = True\n",
    "        vehicle_db[self.code].is_available = True  # Update in database\n",
    "        print(colored(f\"{self.model} (Code: {self.code}) has been returned and is now available.\", 'green'))\n",
    "\n",
    "    def __str__(self):\n",
    "        status = \"Available\" if self.is_available else \"Not Available\"\n",
    "        return f\"Code: {self.code} | {self.make} {self.model} | Price per day: ${self.rental_price} | {status}\"\n",
    "\n",
    "# Car Subclass\n",
    "class Car(Vehicle):\n",
    "    def __init__(self, make, model, rental_price, seats, image_url, code=None):\n",
    "        super().__init__(make, model, rental_price, image_url, code)\n",
    "        self.seats = seats\n",
    "\n",
    "    def __str__(self):\n",
    "        return f\"Car: {self.make} {self.model} | Seats: {self.seats} | {super().__str__()}\"\n",
    "\n",
    "# Bike Subclass\n",
    "class Bike(Vehicle):\n",
    "    def __init__(self, make, model, rental_price, bike_type, image_url, code=None):\n",
    "        super().__init__(make, model, rental_price, image_url, code)\n",
    "        self.bike_type = bike_type\n",
    "\n",
    "    def __str__(self):\n",
    "        return f\"Bike: {self.make} {self.model} | Type: {self.bike_type} | {super().__str__()}\"\n",
    "\n",
    "# Truck Subclass\n",
    "class Truck(Vehicle):\n",
    "    def __init__(self, make, model, rental_price, load_capacity, image_url, code=None):\n",
    "        super().__init__(make, model, rental_price, image_url, code)\n",
    "        self.load_capacity = load_capacity\n",
    "\n",
    "    def __str__(self):\n",
    "        return f\"Truck: {self.make} {self.model} | Load Capacity: {self.load_capacity} tons | {super().__str__()}\"\n",
    "\n",
    "# Rental Management System\n",
    "class RentalSystem:\n",
    "    def __init__(self):\n",
    "        self.vehicles = {}\n",
    "\n",
    "    def add_vehicle(self, vehicle):\n",
    "        \"\"\"Add a new vehicle to the system with a unique code\"\"\"\n",
    "        self.vehicles[vehicle.code] = vehicle\n",
    "        vehicle_db[vehicle.code] = vehicle\n",
    "        print(colored(f\"Vehicle {vehicle.make} {vehicle.model} added with Code: {vehicle.code}.\", 'green'))\n",
    "\n",
    "    def display_available_vehicles(self):\n",
    "        \"\"\"Display all available vehicles\"\"\"\n",
    "        print(colored(\"\\nAvailable Vehicles for Rent:\", 'cyan'))\n",
    "        for vehicle in self.vehicles.values():\n",
    "            if vehicle.is_available:\n",
    "                print(colored(vehicle, 'yellow'))\n",
    "\n",
    "    def rent_vehicle(self):\n",
    "        \"\"\"Handle vehicle rental process\"\"\"\n",
    "        self.display_available_vehicles()\n",
    "        selected_code = input(\"\\nEnter the Code of the vehicle you want to rent: \")\n",
    "        duration = int(input(\"Enter rental duration (in days): \"))\n",
    "        \n",
    "        vehicle = self.vehicles.get(selected_code)\n",
    "        if vehicle:\n",
    "            vehicle.display_image()  # Show vehicle image\n",
    "            total_cost = vehicle.rent(duration)\n",
    "            if total_cost:\n",
    "                print(colored(f\"\\n{vehicle.model} rented for {duration} days. Total cost: ${total_cost} {emoji.emojize(':moneybag:')} {emoji.emojize(':credit_card:')}\", 'green'))\n",
    "                return\n",
    "            else:\n",
    "                print(colored(f\"\\n{vehicle.model} is currently not available.\", 'red'))\n",
    "        else:\n",
    "            print(colored(\"\\nVehicle with this code not found. Please try again.\", 'red'))\n",
    "\n",
    "    def return_vehicle(self):\n",
    "        \"\"\"Handle vehicle return process\"\"\"\n",
    "        selected_code = input(\"\\nEnter the Code of the vehicle you want to return: \")\n",
    "        \n",
    "        vehicle = self.vehicles.get(selected_code)\n",
    "        if vehicle:\n",
    "            vehicle.return_vehicle()\n",
    "        else:\n",
    "            print(colored(\"\\nVehicle with this code not found. Please try again.\", 'red'))\n",
    "\n",
    "    def enroll_vehicle(self):\n",
    "        \"\"\"Enroll a new vehicle into the drive-sharing system\"\"\"\n",
    "        print(colored(\"\\nEnroll a New Vehicle in Drive Sharing:\", 'cyan'))\n",
    "        make = input(\"Enter Vehicle Make: \")\n",
    "        model = input(\"Enter Vehicle Model: \")\n",
    "        price = float(input(\"Enter Rental Price per Day: \"))\n",
    "        vehicle_type = input(\"Enter Vehicle Type (Car, Bike, Truck): \")\n",
    "        image_url = input(\"Enter Image URL for the Vehicle: \")\n",
    "\n",
    "        if vehicle_type.lower() == \"car\":\n",
    "            seats = int(input(\"Enter number of seats: \"))\n",
    "            new_vehicle = Car(make, model, price, seats, image_url)\n",
    "        elif vehicle_type.lower() == \"bike\":\n",
    "            bike_type = input(\"Enter Bike Type (Sport, Cruiser, etc.): \")\n",
    "            new_vehicle = Bike(make, model, price, bike_type, image_url)\n",
    "        elif vehicle_type.lower() == \"truck\":\n",
    "            load_capacity = int(input(\"Enter load capacity (tons): \"))\n",
    "            new_vehicle = Truck(make, model, price, load_capacity, image_url)\n",
    "        else:\n",
    "            print(colored(\"Invalid vehicle type. Try again.\", 'red'))\n",
    "            return\n",
    "\n",
    "        self.add_vehicle(new_vehicle)\n",
    "\n",
    "# Main Application\n",
    "if __name__ == \"__main__\":\n",
    "    if authenticate():\n",
    "        rental_system = RentalSystem()\n",
    "\n",
    "        # Sample vehicles for rent with online images\n",
    "        rental_system.add_vehicle(Car(\"Toyota\", \"Corolla\", 40, 5, \"https://example.com/car_image.png\"))\n",
    "        rental_system.add_vehicle(Bike(\"Yamaha\", \"R15\", 20, \"Sport\", \"https://example.com/bike_image.png\"))\n",
    "        rental_system.add_vehicle(Truck(\"Ford\", \"F150\", 100, 2, \"https://example.com/truck_image.png\"))\n",
    "\n",
    "        # Main system loop\n",
    "        while True:\n",
    "            print(colored(\"\\n--- Vehicle Rental and Drive Sharing System ---\", 'blue'))\n",
    "            print(\"1. View Available Vehicles\")\n",
    "            print(\"2. Rent a Vehicle\")\n",
    "            print(\"3. Return a Vehicle\")\n",
    "            print(\"4. Enroll a New Vehicle (Drive Sharing)\")\n",
    "            print(\"5. Exit\")\n",
    "\n",
    "            choice = input(\"\\nEnter your choice: \")\n",
    "\n",
    "            if choice == \"1\":\n",
    "                rental_system.display_available_vehicles()\n",
    "            elif choice == \"2\":\n",
    "                rental_system.rent_vehicle()\n",
    "            elif choice == \"3\":\n",
    "                rental_system.return_vehicle()\n",
    "            elif choice == \"4\":\n",
    "                rental_system.enroll_vehicle()\n",
    "            elif choice == \"5\":\n",
    "                print(colored(\"Thank you for using the Vehicle Rental and Drive Sharing System! Goodbye!\", 'green'))\n",
    "                break\n",
    "            else:\n",
    "                print(colored(\"Invalid choice. Please try again.\", 'red'))\n",
    "\n",
    "            time.sleep(1)  # Pause for a better user experience\n"
   ]
  },
  {
   "cell_type": "code",
   "execution_count": null,
   "id": "75d5b879-1eff-4e03-b593-b3a6fa3f3fca",
   "metadata": {},
   "outputs": [],
   "source": []
  }
 ],
 "metadata": {
  "kernelspec": {
   "display_name": "Python 3 (ipykernel)",
   "language": "python",
   "name": "python3"
  },
  "language_info": {
   "codemirror_mode": {
    "name": "ipython",
    "version": 3
   },
   "file_extension": ".py",
   "mimetype": "text/x-python",
   "name": "python",
   "nbconvert_exporter": "python",
   "pygments_lexer": "ipython3",
   "version": "3.12.4"
  }
 },
 "nbformat": 4,
 "nbformat_minor": 5
}
